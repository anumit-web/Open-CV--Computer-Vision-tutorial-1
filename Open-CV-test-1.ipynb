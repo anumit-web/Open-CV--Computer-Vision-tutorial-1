{
  "nbformat": 4,
  "nbformat_minor": 0,
  "metadata": {
    "colab": {
      "provenance": [],
      "include_colab_link": true
    },
    "kernelspec": {
      "name": "python3",
      "display_name": "Python 3"
    },
    "language_info": {
      "name": "python"
    }
  },
  "cells": [
    {
      "cell_type": "markdown",
      "metadata": {
        "id": "view-in-github",
        "colab_type": "text"
      },
      "source": [
        "<a href=\"https://colab.research.google.com/github/anumit-web/Open-CV--Computer-Vision-tutorial-1/blob/main/Open-CV-test-1.ipynb\" target=\"_parent\"><img src=\"https://colab.research.google.com/assets/colab-badge.svg\" alt=\"Open In Colab\"/></a>"
      ]
    },
    {
      "cell_type": "markdown",
      "source": [
        "### OpenCV\n",
        "\n",
        "for image and video processing within a Python environment"
      ],
      "metadata": {
        "id": "Oddud14LnY0w"
      }
    },
    {
      "cell_type": "code",
      "source": [
        "# Pandas for managing datasets\n",
        "import pandas as pd"
      ],
      "metadata": {
        "id": "w7aSefoc1m-_"
      },
      "execution_count": null,
      "outputs": []
    },
    {
      "cell_type": "code",
      "source": [
        "# Matplotlib for additional customization\n",
        "from matplotlib import pyplot as plt"
      ],
      "metadata": {
        "id": "ZgrALDQu1z77"
      },
      "execution_count": 2,
      "outputs": []
    },
    {
      "cell_type": "code",
      "source": [
        "# Seaborn for plotting and styling\n",
        "import seaborn as sns"
      ],
      "metadata": {
        "id": "CQlkfm3b2FT4"
      },
      "execution_count": 3,
      "outputs": []
    },
    {
      "cell_type": "code",
      "source": [
        "import cv2\n",
        "print(cv2.__version__)"
      ],
      "metadata": {
        "id": "qCzSkEMUnF4s"
      },
      "execution_count": null,
      "outputs": []
    }
  ]
}